{
 "cells": [
  {
   "cell_type": "code",
   "execution_count": 1,
   "id": "36ca98d2",
   "metadata": {},
   "outputs": [],
   "source": [
    "import pandas as pd\n",
    "import numpy as np\n",
    "import seaborn as sns\n",
    "import matplotlib.pyplot as plt\n",
    "from sklearn.metrics.pairwise import cosine_similarity\n",
    "import statistics\n",
    "import operator\n",
    "import warnings\n",
    "warnings.filterwarnings(\"ignore\")\n",
    "\n"
   ]
  },
  {
   "cell_type": "markdown",
   "id": "74745e87",
   "metadata": {},
   "source": [
    "## __Data Importing__"
   ]
  },
  {
   "cell_type": "code",
   "execution_count": 2,
   "id": "b5835584",
   "metadata": {},
   "outputs": [
    {
     "data": {
      "text/html": [
       "<div>\n",
       "<style scoped>\n",
       "    .dataframe tbody tr th:only-of-type {\n",
       "        vertical-align: middle;\n",
       "    }\n",
       "\n",
       "    .dataframe tbody tr th {\n",
       "        vertical-align: top;\n",
       "    }\n",
       "\n",
       "    .dataframe thead th {\n",
       "        text-align: right;\n",
       "    }\n",
       "</style>\n",
       "<table border=\"1\" class=\"dataframe\">\n",
       "  <thead>\n",
       "    <tr style=\"text-align: right;\">\n",
       "      <th></th>\n",
       "      <th>anime_id</th>\n",
       "      <th>name</th>\n",
       "      <th>genre</th>\n",
       "      <th>type</th>\n",
       "      <th>episodes</th>\n",
       "      <th>rating</th>\n",
       "      <th>members</th>\n",
       "    </tr>\n",
       "  </thead>\n",
       "  <tbody>\n",
       "    <tr>\n",
       "      <th>0</th>\n",
       "      <td>32281</td>\n",
       "      <td>Kimi no Na wa.</td>\n",
       "      <td>Drama, Romance, School, Supernatural</td>\n",
       "      <td>Movie</td>\n",
       "      <td>1</td>\n",
       "      <td>9.37</td>\n",
       "      <td>200630</td>\n",
       "    </tr>\n",
       "  </tbody>\n",
       "</table>\n",
       "</div>"
      ],
      "text/plain": [
       "   anime_id            name                                 genre   type  \\\n",
       "0     32281  Kimi no Na wa.  Drama, Romance, School, Supernatural  Movie   \n",
       "\n",
       "  episodes  rating  members  \n",
       "0        1    9.37   200630  "
      ]
     },
     "execution_count": 2,
     "metadata": {},
     "output_type": "execute_result"
    }
   ],
   "source": [
    "anime = pd.read_csv('anime.csv')\n",
    "anime.head(1)\n",
    "#print(anime.info())"
   ]
  },
  {
   "cell_type": "code",
   "execution_count": 3,
   "id": "2b586c0b",
   "metadata": {},
   "outputs": [
    {
     "data": {
      "text/plain": [
       "anime_id      0\n",
       "name          0\n",
       "genre        62\n",
       "type         25\n",
       "episodes      0\n",
       "rating      230\n",
       "members       0\n",
       "dtype: int64"
      ]
     },
     "execution_count": 3,
     "metadata": {},
     "output_type": "execute_result"
    }
   ],
   "source": [
    "anime.isnull().sum()"
   ]
  },
  {
   "cell_type": "code",
   "execution_count": 4,
   "id": "7f6f2a13",
   "metadata": {},
   "outputs": [
    {
     "data": {
      "text/plain": [
       "type\n",
       "TV         3787\n",
       "OVA        3311\n",
       "Movie      2348\n",
       "Special    1676\n",
       "ONA         659\n",
       "Music       488\n",
       "Name: count, dtype: int64"
      ]
     },
     "execution_count": 4,
     "metadata": {},
     "output_type": "execute_result"
    }
   ],
   "source": [
    "anime['type'].value_counts()"
   ]
  },
  {
   "cell_type": "markdown",
   "id": "38dbed86",
   "metadata": {},
   "source": [
    "## __Missing Values__"
   ]
  },
  {
   "cell_type": "code",
   "execution_count": 5,
   "id": "e675194c",
   "metadata": {},
   "outputs": [],
   "source": [
    "anime['genre'].fillna('Unknow',inplace=True)\n",
    "anime['type'].fillna('Unknow',inplace=True)\n",
    "anime['episodes'] = pd.to_numeric(anime['episodes'],errors='coerce').fillna(0)\n",
    "anime['rating'].fillna(anime['rating'].mean(),inplace=True)"
   ]
  },
  {
   "cell_type": "code",
   "execution_count": 6,
   "id": "90e28cc8",
   "metadata": {},
   "outputs": [
    {
     "data": {
      "text/plain": [
       "anime_id    0\n",
       "name        0\n",
       "genre       0\n",
       "type        0\n",
       "episodes    0\n",
       "rating      0\n",
       "members     0\n",
       "dtype: int64"
      ]
     },
     "execution_count": 6,
     "metadata": {},
     "output_type": "execute_result"
    }
   ],
   "source": [
    "anime.isna().sum()"
   ]
  },
  {
   "cell_type": "code",
   "execution_count": 7,
   "id": "624d6efe",
   "metadata": {},
   "outputs": [
    {
     "data": {
      "text/html": [
       "<div>\n",
       "<style scoped>\n",
       "    .dataframe tbody tr th:only-of-type {\n",
       "        vertical-align: middle;\n",
       "    }\n",
       "\n",
       "    .dataframe tbody tr th {\n",
       "        vertical-align: top;\n",
       "    }\n",
       "\n",
       "    .dataframe thead th {\n",
       "        text-align: right;\n",
       "    }\n",
       "</style>\n",
       "<table border=\"1\" class=\"dataframe\">\n",
       "  <thead>\n",
       "    <tr style=\"text-align: right;\">\n",
       "      <th></th>\n",
       "      <th>anime_id</th>\n",
       "      <th>episodes</th>\n",
       "      <th>rating</th>\n",
       "      <th>members</th>\n",
       "    </tr>\n",
       "  </thead>\n",
       "  <tbody>\n",
       "    <tr>\n",
       "      <th>count</th>\n",
       "      <td>12294.000000</td>\n",
       "      <td>12294.000000</td>\n",
       "      <td>12294.000000</td>\n",
       "      <td>1.229400e+04</td>\n",
       "    </tr>\n",
       "    <tr>\n",
       "      <th>mean</th>\n",
       "      <td>14058.221653</td>\n",
       "      <td>12.040101</td>\n",
       "      <td>6.473902</td>\n",
       "      <td>1.807134e+04</td>\n",
       "    </tr>\n",
       "    <tr>\n",
       "      <th>std</th>\n",
       "      <td>11455.294701</td>\n",
       "      <td>46.257299</td>\n",
       "      <td>1.017096</td>\n",
       "      <td>5.482068e+04</td>\n",
       "    </tr>\n",
       "    <tr>\n",
       "      <th>min</th>\n",
       "      <td>1.000000</td>\n",
       "      <td>0.000000</td>\n",
       "      <td>1.670000</td>\n",
       "      <td>5.000000e+00</td>\n",
       "    </tr>\n",
       "    <tr>\n",
       "      <th>25%</th>\n",
       "      <td>3484.250000</td>\n",
       "      <td>1.000000</td>\n",
       "      <td>5.900000</td>\n",
       "      <td>2.250000e+02</td>\n",
       "    </tr>\n",
       "    <tr>\n",
       "      <th>50%</th>\n",
       "      <td>10260.500000</td>\n",
       "      <td>2.000000</td>\n",
       "      <td>6.550000</td>\n",
       "      <td>1.550000e+03</td>\n",
       "    </tr>\n",
       "    <tr>\n",
       "      <th>75%</th>\n",
       "      <td>24794.500000</td>\n",
       "      <td>12.000000</td>\n",
       "      <td>7.170000</td>\n",
       "      <td>9.437000e+03</td>\n",
       "    </tr>\n",
       "    <tr>\n",
       "      <th>max</th>\n",
       "      <td>34527.000000</td>\n",
       "      <td>1818.000000</td>\n",
       "      <td>10.000000</td>\n",
       "      <td>1.013917e+06</td>\n",
       "    </tr>\n",
       "  </tbody>\n",
       "</table>\n",
       "</div>"
      ],
      "text/plain": [
       "           anime_id      episodes        rating       members\n",
       "count  12294.000000  12294.000000  12294.000000  1.229400e+04\n",
       "mean   14058.221653     12.040101      6.473902  1.807134e+04\n",
       "std    11455.294701     46.257299      1.017096  5.482068e+04\n",
       "min        1.000000      0.000000      1.670000  5.000000e+00\n",
       "25%     3484.250000      1.000000      5.900000  2.250000e+02\n",
       "50%    10260.500000      2.000000      6.550000  1.550000e+03\n",
       "75%    24794.500000     12.000000      7.170000  9.437000e+03\n",
       "max    34527.000000   1818.000000     10.000000  1.013917e+06"
      ]
     },
     "execution_count": 7,
     "metadata": {},
     "output_type": "execute_result"
    }
   ],
   "source": [
    "anime.describe()"
   ]
  },
  {
   "cell_type": "code",
   "execution_count": 8,
   "id": "0e426b19",
   "metadata": {},
   "outputs": [
    {
     "data": {
      "image/png": "[encoded data removed]",
      "text/plain": [
       "<Figure size 800x500 with 1 Axes>"
      ]
     },
     "metadata": {},
     "output_type": "display_data"
    },
    {
     "data": {
      "image/png": "[encoded data removed]",
      "text/plain": [
       "<Figure size 800x500 with 1 Axes>"
      ]
     },
     "metadata": {},
     "output_type": "display_data"
    },
    {
     "data": {
      "image/png": "[encoded data removed]",
      "text/plain": [
       "<Figure size 800x500 with 1 Axes>"
      ]
     },
     "metadata": {},
     "output_type": "display_data"
    },
    {
     "data": {
      "image/png": "[encoded data removed]",
      "text/plain": [
       "<Figure size 800x200 with 1 Axes>"
      ]
     },
     "metadata": {},
     "output_type": "display_data"
    }
   ],
   "source": [
    "import pandas as pd\n",
    "import matplotlib.pyplot as plt\n",
    "\n",
    "# Example: load your dataset\n",
    "# anime = pd.read_csv(\"anime.csv\")\n",
    "\n",
    "# Histogram for episodes\n",
    "plt.figure(figsize=(8,5))\n",
    "plt.hist(anime[\"episodes\"], bins=50)\n",
    "plt.xlabel(\"Episodes\")\n",
    "plt.ylabel(\"Count\")\n",
    "plt.title(\"Distribution of Episodes\")\n",
    "plt.show()\n",
    "\n",
    "# Histogram for rating\n",
    "plt.figure(figsize=(8,5))\n",
    "plt.hist(anime[\"rating\"], bins=30)\n",
    "plt.xlabel(\"Rating\")\n",
    "plt.ylabel(\"Count\")\n",
    "plt.title(\"Distribution of Ratings\")\n",
    "plt.show()\n",
    "\n",
    "# Histogram for members (log scale because it's very skewed)\n",
    "plt.figure(figsize=(8,5))\n",
    "plt.hist(anime[\"members\"], bins=50, log=True)\n",
    "plt.xlabel(\"Members (log scale)\")\n",
    "plt.ylabel(\"Count\")\n",
    "plt.title(\"Distribution of Members\")\n",
    "plt.show()\n",
    "\n",
    "# Boxplot for episodes (to see outliers)\n",
    "plt.figure(figsize=(8,2))\n",
    "plt.boxplot(anime[\"episodes\"], vert=False)\n",
    "plt.xlabel(\"Episodes\")\n",
    "plt.title(\"Boxplot of Episodes\")\n",
    "plt.show()\n"
   ]
  },
  {
   "cell_type": "code",
   "execution_count": 9,
   "id": "59a2ede4",
   "metadata": {},
   "outputs": [
    {
     "data": {
      "image/png": "[encoded data removed]",
      "text/plain": [
       "<Figure size 1400x700 with 2 Axes>"
      ]
     },
     "metadata": {},
     "output_type": "display_data"
    }
   ],
   "source": [
    "type_count = anime['type'].value_counts()\n",
    "genre_count = anime['genre'].str.split(', ').explode().value_counts()\n",
    "\n",
    "fig, ax = plt.subplots(2,1,figsize = (14,7))\n",
    "type_count.plot(kind = 'bar',ax=ax[0],color='cyan')\n",
    "ax[0].set_title('Anime Types')\n",
    "ax[0].set_xlabel('type')\n",
    "ax[0].set_ylabel('Frequency')\n",
    "\n",
    "genre_count.plot(kind = 'bar',ax=ax[1],color='green')\n",
    "ax[0].set_title('Genre Count')\n",
    "ax[0].set_xlabel('Genre')\n",
    "ax[0].set_ylabel('Frequency')\n",
    "plt.tight_layout()\n",
    "plt.show()"
   ]
  },
  {
   "cell_type": "markdown",
   "id": "62ea4454",
   "metadata": {},
   "source": [
    "__Anime Types__\n",
    "- TV and ONA are the top most watched types\n",
    "\n",
    "__Genre__\n",
    "- Comedy is the top genre followed by ation, adventure and so on "
   ]
  },
  {
   "cell_type": "code",
   "execution_count": 10,
   "id": "af307c97",
   "metadata": {},
   "outputs": [
    {
     "data": {
      "text/html": [
       "<div>\n",
       "<style scoped>\n",
       "    .dataframe tbody tr th:only-of-type {\n",
       "        vertical-align: middle;\n",
       "    }\n",
       "\n",
       "    .dataframe tbody tr th {\n",
       "        vertical-align: top;\n",
       "    }\n",
       "\n",
       "    .dataframe thead th {\n",
       "        text-align: right;\n",
       "    }\n",
       "</style>\n",
       "<table border=\"1\" class=\"dataframe\">\n",
       "  <thead>\n",
       "    <tr style=\"text-align: right;\">\n",
       "      <th></th>\n",
       "      <th>user_id</th>\n",
       "      <th>anime_id</th>\n",
       "      <th>rating</th>\n",
       "    </tr>\n",
       "  </thead>\n",
       "  <tbody>\n",
       "    <tr>\n",
       "      <th>47</th>\n",
       "      <td>1</td>\n",
       "      <td>8074</td>\n",
       "      <td>10</td>\n",
       "    </tr>\n",
       "    <tr>\n",
       "      <th>81</th>\n",
       "      <td>1</td>\n",
       "      <td>11617</td>\n",
       "      <td>10</td>\n",
       "    </tr>\n",
       "    <tr>\n",
       "      <th>83</th>\n",
       "      <td>1</td>\n",
       "      <td>11757</td>\n",
       "      <td>10</td>\n",
       "    </tr>\n",
       "    <tr>\n",
       "      <th>101</th>\n",
       "      <td>1</td>\n",
       "      <td>15451</td>\n",
       "      <td>10</td>\n",
       "    </tr>\n",
       "    <tr>\n",
       "      <th>153</th>\n",
       "      <td>2</td>\n",
       "      <td>11771</td>\n",
       "      <td>10</td>\n",
       "    </tr>\n",
       "  </tbody>\n",
       "</table>\n",
       "</div>"
      ],
      "text/plain": [
       "     user_id  anime_id  rating\n",
       "47         1      8074      10\n",
       "81         1     11617      10\n",
       "83         1     11757      10\n",
       "101        1     15451      10\n",
       "153        2     11771      10"
      ]
     },
     "execution_count": 10,
     "metadata": {},
     "output_type": "execute_result"
    }
   ],
   "source": [
    "rating = pd.read_csv('rating.csv')\n",
    "rating_df = rating[rating.rating != -1]\n",
    "rating_df.head()"
   ]
  },
  {
   "cell_type": "code",
   "execution_count": 11,
   "id": "5a173131",
   "metadata": {},
   "outputs": [
    {
     "data": {
      "text/plain": [
       "user_id     0\n",
       "anime_id    0\n",
       "rating      0\n",
       "dtype: int64"
      ]
     },
     "execution_count": 11,
     "metadata": {},
     "output_type": "execute_result"
    }
   ],
   "source": [
    "rating_df.isna().sum()"
   ]
  },
  {
   "cell_type": "code",
   "execution_count": 12,
   "id": "a7de00ef",
   "metadata": {},
   "outputs": [
    {
     "name": "stdout",
     "output_type": "stream",
     "text": [
      "<class 'pandas.core.frame.DataFrame'>\n",
      "RangeIndex: 7813737 entries, 0 to 7813736\n",
      "Data columns (total 3 columns):\n",
      " #   Column    Dtype\n",
      "---  ------    -----\n",
      " 0   user_id   int64\n",
      " 1   anime_id  int64\n",
      " 2   rating    int64\n",
      "dtypes: int64(3)\n",
      "memory usage: 178.8 MB\n"
     ]
    }
   ],
   "source": [
    "rating.info()"
   ]
  },
  {
   "cell_type": "code",
   "execution_count": 13,
   "id": "35e48bd2",
   "metadata": {},
   "outputs": [
    {
     "data": {
      "text/plain": [
       "(6337241, 3)"
      ]
     },
     "execution_count": 13,
     "metadata": {},
     "output_type": "execute_result"
    }
   ],
   "source": [
    "rating_df.shape"
   ]
  },
  {
   "cell_type": "code",
   "execution_count": 14,
   "id": "2e9145aa",
   "metadata": {},
   "outputs": [
    {
     "data": {
      "text/html": [
       "<div>\n",
       "<style scoped>\n",
       "    .dataframe tbody tr th:only-of-type {\n",
       "        vertical-align: middle;\n",
       "    }\n",
       "\n",
       "    .dataframe tbody tr th {\n",
       "        vertical-align: top;\n",
       "    }\n",
       "\n",
       "    .dataframe thead th {\n",
       "        text-align: right;\n",
       "    }\n",
       "</style>\n",
       "<table border=\"1\" class=\"dataframe\">\n",
       "  <thead>\n",
       "    <tr style=\"text-align: right;\">\n",
       "      <th></th>\n",
       "      <th>user_id</th>\n",
       "      <th>anime_id</th>\n",
       "      <th>rating</th>\n",
       "    </tr>\n",
       "  </thead>\n",
       "  <tbody>\n",
       "    <tr>\n",
       "      <th>count</th>\n",
       "      <td>7.813737e+06</td>\n",
       "      <td>7.813737e+06</td>\n",
       "      <td>7.813737e+06</td>\n",
       "    </tr>\n",
       "    <tr>\n",
       "      <th>mean</th>\n",
       "      <td>3.672796e+04</td>\n",
       "      <td>8.909072e+03</td>\n",
       "      <td>6.144030e+00</td>\n",
       "    </tr>\n",
       "    <tr>\n",
       "      <th>std</th>\n",
       "      <td>2.099795e+04</td>\n",
       "      <td>8.883950e+03</td>\n",
       "      <td>3.727800e+00</td>\n",
       "    </tr>\n",
       "    <tr>\n",
       "      <th>min</th>\n",
       "      <td>1.000000e+00</td>\n",
       "      <td>1.000000e+00</td>\n",
       "      <td>-1.000000e+00</td>\n",
       "    </tr>\n",
       "    <tr>\n",
       "      <th>25%</th>\n",
       "      <td>1.897400e+04</td>\n",
       "      <td>1.240000e+03</td>\n",
       "      <td>6.000000e+00</td>\n",
       "    </tr>\n",
       "    <tr>\n",
       "      <th>50%</th>\n",
       "      <td>3.679100e+04</td>\n",
       "      <td>6.213000e+03</td>\n",
       "      <td>7.000000e+00</td>\n",
       "    </tr>\n",
       "    <tr>\n",
       "      <th>75%</th>\n",
       "      <td>5.475700e+04</td>\n",
       "      <td>1.409300e+04</td>\n",
       "      <td>9.000000e+00</td>\n",
       "    </tr>\n",
       "    <tr>\n",
       "      <th>max</th>\n",
       "      <td>7.351600e+04</td>\n",
       "      <td>3.451900e+04</td>\n",
       "      <td>1.000000e+01</td>\n",
       "    </tr>\n",
       "  </tbody>\n",
       "</table>\n",
       "</div>"
      ],
      "text/plain": [
       "            user_id      anime_id        rating\n",
       "count  7.813737e+06  7.813737e+06  7.813737e+06\n",
       "mean   3.672796e+04  8.909072e+03  6.144030e+00\n",
       "std    2.099795e+04  8.883950e+03  3.727800e+00\n",
       "min    1.000000e+00  1.000000e+00 -1.000000e+00\n",
       "25%    1.897400e+04  1.240000e+03  6.000000e+00\n",
       "50%    3.679100e+04  6.213000e+03  7.000000e+00\n",
       "75%    5.475700e+04  1.409300e+04  9.000000e+00\n",
       "max    7.351600e+04  3.451900e+04  1.000000e+01"
      ]
     },
     "execution_count": 14,
     "metadata": {},
     "output_type": "execute_result"
    }
   ],
   "source": [
    "rating.describe()"
   ]
  },
  {
   "cell_type": "code",
   "execution_count": 15,
   "id": "2fe2ba5e",
   "metadata": {},
   "outputs": [
    {
     "data": {
      "text/plain": [
       "6337241"
      ]
     },
     "execution_count": 15,
     "metadata": {},
     "output_type": "execute_result"
    }
   ],
   "source": [
    "len(rating_df)"
   ]
  },
  {
   "cell_type": "code",
   "execution_count": 16,
   "id": "12fdacd2",
   "metadata": {},
   "outputs": [
    {
     "name": "stdout",
     "output_type": "stream",
     "text": [
      "user_id :  69600\n",
      "anime_id :  9927\n"
     ]
    }
   ],
   "source": [
    "print('user_id : ',len(rating_df['user_id'].unique()))\n",
    "print('anime_id : ',len(rating_df['anime_id'].unique()))"
   ]
  },
  {
   "cell_type": "code",
   "execution_count": 17,
   "id": "9057f4c9",
   "metadata": {},
   "outputs": [
    {
     "data": {
      "text/plain": [
       "91.05231321839081"
      ]
     },
     "execution_count": 17,
     "metadata": {},
     "output_type": "execute_result"
    }
   ],
   "source": [
    "import statistics\n",
    "ratings_per_user = rating_df.groupby('user_id')['rating'].count()\n",
    "mean_ratings_per_user = statistics.mean(ratings_per_user.tolist())\n",
    "mean_ratings_per_user"
   ]
  },
  {
   "cell_type": "markdown",
   "id": "60d87a09",
   "metadata": {},
   "source": [
    "*Average use has about 91 times rating*"
   ]
  },
  {
   "cell_type": "code",
   "execution_count": 18,
   "id": "84742a56",
   "metadata": {},
   "outputs": [
    {
     "data": {
      "image/png": "[encoded data removed]",
      "text/plain": [
       "<Figure size 640x480 with 1 Axes>"
      ]
     },
     "metadata": {},
     "output_type": "display_data"
    }
   ],
   "source": [
    "ratings_per_user.hist(bins=40,range=(0,500))\n",
    "plt.xlabel('number of ratings per user')\n",
    "plt.ylabel('frequency')\n",
    "plt.title('Rating per user')\n",
    "plt.show()"
   ]
  },
  {
   "cell_type": "code",
   "execution_count": 19,
   "id": "aeac8183",
   "metadata": {},
   "outputs": [
    {
     "data": {
      "text/plain": [
       "638.3843054296364"
      ]
     },
     "execution_count": 19,
     "metadata": {},
     "output_type": "execute_result"
    }
   ],
   "source": [
    "rating_per_anime = rating_df.groupby('anime_id')['rating'].count()\n",
    "mean_ratings_per_anime = statistics.mean(rating_per_anime.tolist())\n",
    "mean_ratings_per_anime"
   ]
  },
  {
   "cell_type": "markdown",
   "id": "98d0a7c3",
   "metadata": {},
   "source": [
    "- *on an average each anime get atleast 638 ratings, means it show diverse range of viewer engagement*\n",
    " "
   ]
  },
  {
   "cell_type": "code",
   "execution_count": 20,
   "id": "773c11fd",
   "metadata": {},
   "outputs": [
    {
     "data": {
      "image/png": "[encoded data removed]",
      "text/plain": [
       "<Figure size 640x480 with 1 Axes>"
      ]
     },
     "metadata": {},
     "output_type": "display_data"
    }
   ],
   "source": [
    "rating_per_anime.hist(bins=20,range=(20,2500))\n",
    "plt.xlabel('number of ratings per anime')\n",
    "plt.ylabel('frequency')\n",
    "plt.title('Ratings per anime')\n",
    "plt.show()"
   ]
  },
  {
   "cell_type": "markdown",
   "id": "c439cad5",
   "metadata": {},
   "source": [
    "- from the above histogram it is clear that there are very few anime's that received rating more than 1000 time "
   ]
  },
  {
   "cell_type": "code",
   "execution_count": null,
   "id": "e775b927",
   "metadata": {},
   "outputs": [],
   "source": [
    "# filtering (anime) ratings above than 1000\n",
    "rating_per_anime_df = pd.DataFrame(rating_per_anime)\n",
    "filtered_rating_per_anime_df = rating_per_anime_df[rating_per_anime_df.rating >=1000]\n",
    "popular_anime = filtered_rating_per_anime_df.index.tolist()"
   ]
  },
  {
   "cell_type": "code",
   "execution_count": 24,
   "id": "8e9cfa67",
   "metadata": {},
   "outputs": [],
   "source": [
    "# filtering (user) ratings above than 500\n",
    "rating_per_user_df = pd.DataFrame(ratings_per_user)\n",
    "filtered_rating_per_user_df = rating_per_user_df[rating_per_user_df.rating >=500]\n",
    "profilic_user = filtered_rating_per_user_df.index.tolist()"
   ]
  },
  {
   "cell_type": "code",
   "execution_count": 31,
   "id": "964152ee",
   "metadata": {},
   "outputs": [
    {
     "data": {
      "text/plain": [
       "1005314"
      ]
     },
     "execution_count": 31,
     "metadata": {},
     "output_type": "execute_result"
    }
   ],
   "source": [
    "# filtering the data set to include only ratings of popular anime\n",
    "filtered_rating = rating_df[rating_df.anime_id.isin(popular_anime)]\n",
    "filtered_rating = rating_df[rating_df.user_id.isin(profilic_user)]\n",
    "len(filtered_rating)\n"
   ]
  },
  {
   "cell_type": "markdown",
   "id": "64f8d1e7",
   "metadata": {},
   "source": [
    "## __Pivot Table__"
   ]
  },
  {
   "cell_type": "code",
   "execution_count": 34,
   "id": "bcf73edd",
   "metadata": {},
   "outputs": [
    {
     "data": {
      "text/html": [
       "<div>\n",
       "<style scoped>\n",
       "    .dataframe tbody tr th:only-of-type {\n",
       "        vertical-align: middle;\n",
       "    }\n",
       "\n",
       "    .dataframe tbody tr th {\n",
       "        vertical-align: top;\n",
       "    }\n",
       "\n",
       "    .dataframe thead th {\n",
       "        text-align: right;\n",
       "    }\n",
       "</style>\n",
       "<table border=\"1\" class=\"dataframe\">\n",
       "  <thead>\n",
       "    <tr style=\"text-align: right;\">\n",
       "      <th>anime_id</th>\n",
       "      <th>1</th>\n",
       "      <th>5</th>\n",
       "      <th>6</th>\n",
       "      <th>7</th>\n",
       "      <th>15</th>\n",
       "      <th>16</th>\n",
       "      <th>18</th>\n",
       "      <th>19</th>\n",
       "      <th>20</th>\n",
       "      <th>22</th>\n",
       "      <th>...</th>\n",
       "      <th>32281</th>\n",
       "      <th>32282</th>\n",
       "      <th>32379</th>\n",
       "      <th>32438</th>\n",
       "      <th>32542</th>\n",
       "      <th>32729</th>\n",
       "      <th>32828</th>\n",
       "      <th>32935</th>\n",
       "      <th>32998</th>\n",
       "      <th>34240</th>\n",
       "    </tr>\n",
       "    <tr>\n",
       "      <th>user_id</th>\n",
       "      <th></th>\n",
       "      <th></th>\n",
       "      <th></th>\n",
       "      <th></th>\n",
       "      <th></th>\n",
       "      <th></th>\n",
       "      <th></th>\n",
       "      <th></th>\n",
       "      <th></th>\n",
       "      <th></th>\n",
       "      <th></th>\n",
       "      <th></th>\n",
       "      <th></th>\n",
       "      <th></th>\n",
       "      <th></th>\n",
       "      <th></th>\n",
       "      <th></th>\n",
       "      <th></th>\n",
       "      <th></th>\n",
       "      <th></th>\n",
       "      <th></th>\n",
       "    </tr>\n",
       "  </thead>\n",
       "  <tbody>\n",
       "    <tr>\n",
       "      <th>1</th>\n",
       "      <td>0.0</td>\n",
       "      <td>0.0</td>\n",
       "      <td>0.0</td>\n",
       "      <td>0.0</td>\n",
       "      <td>0.0</td>\n",
       "      <td>0.0</td>\n",
       "      <td>0.0</td>\n",
       "      <td>0.0</td>\n",
       "      <td>0.0</td>\n",
       "      <td>0.0</td>\n",
       "      <td>...</td>\n",
       "      <td>0.0</td>\n",
       "      <td>0.0</td>\n",
       "      <td>0.0</td>\n",
       "      <td>0.0</td>\n",
       "      <td>0.0</td>\n",
       "      <td>0.0</td>\n",
       "      <td>0.0</td>\n",
       "      <td>0.0</td>\n",
       "      <td>0.0</td>\n",
       "      <td>0.0</td>\n",
       "    </tr>\n",
       "    <tr>\n",
       "      <th>2</th>\n",
       "      <td>0.0</td>\n",
       "      <td>0.0</td>\n",
       "      <td>0.0</td>\n",
       "      <td>0.0</td>\n",
       "      <td>0.0</td>\n",
       "      <td>0.0</td>\n",
       "      <td>0.0</td>\n",
       "      <td>0.0</td>\n",
       "      <td>0.0</td>\n",
       "      <td>0.0</td>\n",
       "      <td>...</td>\n",
       "      <td>0.0</td>\n",
       "      <td>0.0</td>\n",
       "      <td>0.0</td>\n",
       "      <td>0.0</td>\n",
       "      <td>0.0</td>\n",
       "      <td>0.0</td>\n",
       "      <td>0.0</td>\n",
       "      <td>0.0</td>\n",
       "      <td>0.0</td>\n",
       "      <td>0.0</td>\n",
       "    </tr>\n",
       "    <tr>\n",
       "      <th>3</th>\n",
       "      <td>0.0</td>\n",
       "      <td>0.0</td>\n",
       "      <td>0.0</td>\n",
       "      <td>0.0</td>\n",
       "      <td>0.0</td>\n",
       "      <td>0.0</td>\n",
       "      <td>0.0</td>\n",
       "      <td>0.0</td>\n",
       "      <td>8.0</td>\n",
       "      <td>0.0</td>\n",
       "      <td>...</td>\n",
       "      <td>0.0</td>\n",
       "      <td>0.0</td>\n",
       "      <td>0.0</td>\n",
       "      <td>0.0</td>\n",
       "      <td>0.0</td>\n",
       "      <td>0.0</td>\n",
       "      <td>0.0</td>\n",
       "      <td>0.0</td>\n",
       "      <td>0.0</td>\n",
       "      <td>0.0</td>\n",
       "    </tr>\n",
       "    <tr>\n",
       "      <th>5</th>\n",
       "      <td>0.0</td>\n",
       "      <td>0.0</td>\n",
       "      <td>8.0</td>\n",
       "      <td>0.0</td>\n",
       "      <td>6.0</td>\n",
       "      <td>0.0</td>\n",
       "      <td>6.0</td>\n",
       "      <td>0.0</td>\n",
       "      <td>6.0</td>\n",
       "      <td>5.0</td>\n",
       "      <td>...</td>\n",
       "      <td>0.0</td>\n",
       "      <td>0.0</td>\n",
       "      <td>0.0</td>\n",
       "      <td>0.0</td>\n",
       "      <td>0.0</td>\n",
       "      <td>0.0</td>\n",
       "      <td>7.0</td>\n",
       "      <td>0.0</td>\n",
       "      <td>0.0</td>\n",
       "      <td>0.0</td>\n",
       "    </tr>\n",
       "    <tr>\n",
       "      <th>7</th>\n",
       "      <td>0.0</td>\n",
       "      <td>0.0</td>\n",
       "      <td>0.0</td>\n",
       "      <td>0.0</td>\n",
       "      <td>0.0</td>\n",
       "      <td>0.0</td>\n",
       "      <td>0.0</td>\n",
       "      <td>0.0</td>\n",
       "      <td>0.0</td>\n",
       "      <td>7.0</td>\n",
       "      <td>...</td>\n",
       "      <td>0.0</td>\n",
       "      <td>0.0</td>\n",
       "      <td>0.0</td>\n",
       "      <td>0.0</td>\n",
       "      <td>0.0</td>\n",
       "      <td>0.0</td>\n",
       "      <td>0.0</td>\n",
       "      <td>0.0</td>\n",
       "      <td>0.0</td>\n",
       "      <td>0.0</td>\n",
       "    </tr>\n",
       "  </tbody>\n",
       "</table>\n",
       "<p>5 rows × 1462 columns</p>\n",
       "</div>"
      ],
      "text/plain": [
       "anime_id  1      5      6      7      15     16     18     19     20     \\\n",
       "user_id                                                                   \n",
       "1           0.0    0.0    0.0    0.0    0.0    0.0    0.0    0.0    0.0   \n",
       "2           0.0    0.0    0.0    0.0    0.0    0.0    0.0    0.0    0.0   \n",
       "3           0.0    0.0    0.0    0.0    0.0    0.0    0.0    0.0    8.0   \n",
       "5           0.0    0.0    8.0    0.0    6.0    0.0    6.0    0.0    6.0   \n",
       "7           0.0    0.0    0.0    0.0    0.0    0.0    0.0    0.0    0.0   \n",
       "\n",
       "anime_id  22     ...  32281  32282  32379  32438  32542  32729  32828  32935  \\\n",
       "user_id          ...                                                           \n",
       "1           0.0  ...    0.0    0.0    0.0    0.0    0.0    0.0    0.0    0.0   \n",
       "2           0.0  ...    0.0    0.0    0.0    0.0    0.0    0.0    0.0    0.0   \n",
       "3           0.0  ...    0.0    0.0    0.0    0.0    0.0    0.0    0.0    0.0   \n",
       "5           5.0  ...    0.0    0.0    0.0    0.0    0.0    0.0    7.0    0.0   \n",
       "7           7.0  ...    0.0    0.0    0.0    0.0    0.0    0.0    0.0    0.0   \n",
       "\n",
       "anime_id  32998  34240  \n",
       "user_id                 \n",
       "1           0.0    0.0  \n",
       "2           0.0    0.0  \n",
       "3           0.0    0.0  \n",
       "5           0.0    0.0  \n",
       "7           0.0    0.0  \n",
       "\n",
       "[5 rows x 1462 columns]"
      ]
     },
     "execution_count": 34,
     "metadata": {},
     "output_type": "execute_result"
    }
   ],
   "source": [
    "rating_matrix = filtered_rating_anime.pivot_table(index='user_id',columns='anime_id',values='rating')\n",
    "rating_matrix = rating_matrix.fillna(0)\n",
    "rating_matrix.head()"
   ]
  },
  {
   "cell_type": "markdown",
   "id": "61cb0a8b",
   "metadata": {},
   "source": [
    "- above table shows the interaction between user and items in the form of ratings.\n",
    "- row -> user\n",
    "- column -> anime title "
   ]
  },
  {
   "cell_type": "markdown",
   "id": "89760a76",
   "metadata": {},
   "source": [
    "The formula for cosine similarity is as follows:\n",
    "\n",
    "$$\n",
    "\\text{similarity}(u, v) = \\cos(\\theta) = \\frac{\\sum_{i \\in I} r_{ui} \\cdot r_{vi}}{\\sqrt{\\sum_{i \\in I} r_{ui}^2} \\cdot \\sqrt{\\sum_{i \\in I} r_{vi}^2}}\n",
    "$$"
   ]
  },
  {
   "cell_type": "code",
   "execution_count": 40,
   "id": "28401ffa",
   "metadata": {},
   "outputs": [],
   "source": [
    "import operator"
   ]
  },
  {
   "cell_type": "code",
   "execution_count": 41,
   "id": "e3b4570a",
   "metadata": {},
   "outputs": [],
   "source": [
    "#defining a function to find similar user based on cosine similarity\n",
    "\n",
    "def similar_user(user_id,matrix,k=3):\n",
    "    user = matrix[matrix.index == user_id]\n",
    "    other_users = matrix[matrix.index != user_id]\n",
    "    similarity = cosine_similarity(user,other_users)[0].tolist()\n",
    "    indices = other_users.index.tolist()\n",
    "    index_similarity = dict(zip(indices,similarity))\n",
    "\n",
    "    index_similarity_soreted = sorted(index_similarity.items(),key=operator.itemgetter(1))\n",
    "    index_similarity_soreted.reverse()\n",
    "\n",
    "    top_similar_user = index_similarity_soreted[:k]\n",
    "    users = [u[0] for u in top_similar_user]\n",
    "    return users"
   ]
  },
  {
   "cell_type": "code",
   "execution_count": 43,
   "id": "50df5430",
   "metadata": {},
   "outputs": [
    {
     "data": {
      "text/plain": [
       "[71834, 1776, 46337]"
      ]
     },
     "execution_count": 43,
     "metadata": {},
     "output_type": "execute_result"
    }
   ],
   "source": [
    "similar_user(1,rating_matrix)"
   ]
  },
  {
   "cell_type": "code",
   "execution_count": 45,
   "id": "5731e3eb",
   "metadata": {},
   "outputs": [
    {
     "name": "stdout",
     "output_type": "stream",
     "text": [
      "[4921, 24483, 58075]\n"
     ]
    }
   ],
   "source": [
    "curr_user = 158\n",
    "similar_user_indices = similar_user(curr_user,rating_matrix)\n",
    "print(similar_user_indices)"
   ]
  },
  {
   "cell_type": "code",
   "execution_count": 48,
   "id": "1d0f696c",
   "metadata": {},
   "outputs": [],
   "source": [
    "# defining a function to get reommend anime for a user based on average rating\n",
    "def recommend_item(user_index, similar_user_indices, matrix, items=8):\n",
    "    similar_user = matrix[matrix.index.isin(similar_user_indices)]\n",
    "    similar_user = similar_user.mean(axis = 0)\n",
    "    similar_user_df = pd.DataFrame(similar_user,columns=['mean'])\n",
    "    user_df = matrix[matrix.index == user_index]\n",
    "    user_df_transposed = user_df.transpose()\n",
    "    user_df_transposed.columns = ['rating']\n",
    "    user_df_transposed = user_df_transposed[user_df_transposed['rating']==0]\n",
    "    anime_unseen = user_df_transposed.index.tolist()\n",
    "    similar_user_df_filered = similar_user_df[similar_user_df.index.isin(anime_unseen)]\n",
    "    similar_user_df_ordered = similar_user_df.sort_values(by=['mean'],ascending=False)\n",
    "\n",
    "    top_n_anime = similar_user_df_ordered.head(items)\n",
    "    top_n_anime_indices = top_n_anime.index.tolist()\n",
    "\n",
    "    anime_info = anime[anime['anime_id'].isin(top_n_anime_indices)]\n",
    "    return anime_info"
   ]
  },
  {
   "cell_type": "code",
   "execution_count": null,
   "id": "86a376c0",
   "metadata": {},
   "outputs": [],
   "source": []
  },
  {
   "cell_type": "code",
   "execution_count": 50,
   "id": "685a1591",
   "metadata": {},
   "outputs": [
    {
     "data": {
      "text/html": [
       "<div>\n",
       "<style scoped>\n",
       "    .dataframe tbody tr th:only-of-type {\n",
       "        vertical-align: middle;\n",
       "    }\n",
       "\n",
       "    .dataframe tbody tr th {\n",
       "        vertical-align: top;\n",
       "    }\n",
       "\n",
       "    .dataframe thead th {\n",
       "        text-align: right;\n",
       "    }\n",
       "</style>\n",
       "<table border=\"1\" class=\"dataframe\">\n",
       "  <thead>\n",
       "    <tr style=\"text-align: right;\">\n",
       "      <th></th>\n",
       "      <th>anime_id</th>\n",
       "      <th>name</th>\n",
       "      <th>genre</th>\n",
       "      <th>type</th>\n",
       "      <th>episodes</th>\n",
       "      <th>rating</th>\n",
       "      <th>members</th>\n",
       "    </tr>\n",
       "  </thead>\n",
       "  <tbody>\n",
       "    <tr>\n",
       "      <th>19</th>\n",
       "      <td>1575</td>\n",
       "      <td>Code Geass: Hangyaku no Lelouch</td>\n",
       "      <td>Action, Mecha, Military, School, Sci-Fi, Super...</td>\n",
       "      <td>TV</td>\n",
       "      <td>25.0</td>\n",
       "      <td>8.83</td>\n",
       "      <td>715151</td>\n",
       "    </tr>\n",
       "    <tr>\n",
       "      <th>251</th>\n",
       "      <td>2025</td>\n",
       "      <td>Darker than Black: Kuro no Keiyakusha</td>\n",
       "      <td>Action, Mystery, Sci-Fi, Super Power</td>\n",
       "      <td>TV</td>\n",
       "      <td>25.0</td>\n",
       "      <td>8.25</td>\n",
       "      <td>440334</td>\n",
       "    </tr>\n",
       "    <tr>\n",
       "      <th>331</th>\n",
       "      <td>889</td>\n",
       "      <td>Black Lagoon</td>\n",
       "      <td>Action, Seinen</td>\n",
       "      <td>TV</td>\n",
       "      <td>12.0</td>\n",
       "      <td>8.17</td>\n",
       "      <td>332562</td>\n",
       "    </tr>\n",
       "    <tr>\n",
       "      <th>334</th>\n",
       "      <td>934</td>\n",
       "      <td>Higurashi no Naku Koro ni</td>\n",
       "      <td>Horror, Mystery, Psychological, Supernatural, ...</td>\n",
       "      <td>TV</td>\n",
       "      <td>26.0</td>\n",
       "      <td>8.17</td>\n",
       "      <td>359494</td>\n",
       "    </tr>\n",
       "    <tr>\n",
       "      <th>641</th>\n",
       "      <td>202</td>\n",
       "      <td>Wolf&amp;#039;s Rain</td>\n",
       "      <td>Action, Adventure, Drama, Fantasy, Mystery, Sc...</td>\n",
       "      <td>TV</td>\n",
       "      <td>26.0</td>\n",
       "      <td>7.93</td>\n",
       "      <td>171863</td>\n",
       "    </tr>\n",
       "    <tr>\n",
       "      <th>644</th>\n",
       "      <td>1818</td>\n",
       "      <td>Claymore</td>\n",
       "      <td>Action, Adventure, Demons, Fantasy, Shounen, S...</td>\n",
       "      <td>TV</td>\n",
       "      <td>26.0</td>\n",
       "      <td>7.92</td>\n",
       "      <td>316853</td>\n",
       "    </tr>\n",
       "    <tr>\n",
       "      <th>760</th>\n",
       "      <td>226</td>\n",
       "      <td>Elfen Lied</td>\n",
       "      <td>Action, Drama, Horror, Psychological, Romance,...</td>\n",
       "      <td>TV</td>\n",
       "      <td>13.0</td>\n",
       "      <td>7.85</td>\n",
       "      <td>623511</td>\n",
       "    </tr>\n",
       "    <tr>\n",
       "      <th>1338</th>\n",
       "      <td>356</td>\n",
       "      <td>Fate/stay night</td>\n",
       "      <td>Action, Fantasy, Magic, Romance, Supernatural</td>\n",
       "      <td>TV</td>\n",
       "      <td>24.0</td>\n",
       "      <td>7.58</td>\n",
       "      <td>374880</td>\n",
       "    </tr>\n",
       "  </tbody>\n",
       "</table>\n",
       "</div>"
      ],
      "text/plain": [
       "      anime_id                                   name  \\\n",
       "19        1575        Code Geass: Hangyaku no Lelouch   \n",
       "251       2025  Darker than Black: Kuro no Keiyakusha   \n",
       "331        889                           Black Lagoon   \n",
       "334        934              Higurashi no Naku Koro ni   \n",
       "641        202                       Wolf&#039;s Rain   \n",
       "644       1818                               Claymore   \n",
       "760        226                             Elfen Lied   \n",
       "1338       356                        Fate/stay night   \n",
       "\n",
       "                                                  genre type  episodes  \\\n",
       "19    Action, Mecha, Military, School, Sci-Fi, Super...   TV      25.0   \n",
       "251                Action, Mystery, Sci-Fi, Super Power   TV      25.0   \n",
       "331                                      Action, Seinen   TV      12.0   \n",
       "334   Horror, Mystery, Psychological, Supernatural, ...   TV      26.0   \n",
       "641   Action, Adventure, Drama, Fantasy, Mystery, Sc...   TV      26.0   \n",
       "644   Action, Adventure, Demons, Fantasy, Shounen, S...   TV      26.0   \n",
       "760   Action, Drama, Horror, Psychological, Romance,...   TV      13.0   \n",
       "1338      Action, Fantasy, Magic, Romance, Supernatural   TV      24.0   \n",
       "\n",
       "      rating  members  \n",
       "19      8.83   715151  \n",
       "251     8.25   440334  \n",
       "331     8.17   332562  \n",
       "334     8.17   359494  \n",
       "641     7.93   171863  \n",
       "644     7.92   316853  \n",
       "760     7.85   623511  \n",
       "1338    7.58   374880  "
      ]
     },
     "execution_count": 50,
     "metadata": {},
     "output_type": "execute_result"
    }
   ],
   "source": [
    "recommend_item(201,similar_user_indices,rating_matrix)"
   ]
  },
  {
   "cell_type": "code",
   "execution_count": null,
   "id": "c5957b12",
   "metadata": {},
   "outputs": [],
   "source": []
  },
  {
   "cell_type": "code",
   "execution_count": null,
   "id": "b1130d02",
   "metadata": {},
   "outputs": [],
   "source": []
  },
  {
   "cell_type": "code",
   "execution_count": null,
   "id": "ac376fb3",
   "metadata": {},
   "outputs": [],
   "source": []
  },
  {
   "cell_type": "code",
   "execution_count": null,
   "id": "83041581",
   "metadata": {},
   "outputs": [],
   "source": []
  },
  {
   "cell_type": "code",
   "execution_count": null,
   "id": "21bcb29a",
   "metadata": {},
   "outputs": [],
   "source": []
  },
  {
   "cell_type": "code",
   "execution_count": null,
   "id": "203b4d74",
   "metadata": {},
   "outputs": [],
   "source": []
  },
  {
   "cell_type": "code",
   "execution_count": null,
   "id": "3c49c7fc",
   "metadata": {},
   "outputs": [],
   "source": []
  },
  {
   "cell_type": "code",
   "execution_count": null,
   "id": "64952dac",
   "metadata": {},
   "outputs": [],
   "source": []
  },
  {
   "cell_type": "code",
   "execution_count": null,
   "id": "1cb0df82",
   "metadata": {},
   "outputs": [],
   "source": []
  }
 ],
 "metadata": {
  "kernelspec": {
   "display_name": "Python 3",
   "language": "python",
   "name": "python3"
  },
  "language_info": {
   "codemirror_mode": {
    "name": "ipython",
    "version": 3
   },
   "file_extension": ".py",
   "mimetype": "text/x-python",
   "name": "python",
   "nbconvert_exporter": "python",
   "pygments_lexer": "ipython3",
   "version": "3.11.9"
  }
 },
 "nbformat": 4,
 "nbformat_minor": 5
}
